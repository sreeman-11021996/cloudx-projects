{
 "cells": [
  {
   "cell_type": "code",
   "execution_count": 7,
   "metadata": {},
   "outputs": [],
   "source": [
    "import tensorflow as tf"
   ]
  },
  {
   "cell_type": "code",
   "execution_count": 8,
   "metadata": {},
   "outputs": [],
   "source": [
    "from tensorflow import keras"
   ]
  },
  {
   "cell_type": "code",
   "execution_count": 9,
   "metadata": {},
   "outputs": [],
   "source": [
    "from sklearn.datasets import fetch_california_housing"
   ]
  },
  {
   "cell_type": "code",
   "execution_count": 10,
   "metadata": {},
   "outputs": [
    {
     "name": "stderr",
     "output_type": "stream",
     "text": [
      "Downloading Cal. housing from https://ndownloader.figshare.com/files/5976036 to /home/sreemanbitsmech8888/scikit_learn_data\n"
     ]
    }
   ],
   "source": [
    "housing = fetch_california_housing()"
   ]
  },
  {
   "cell_type": "code",
   "execution_count": 11,
   "metadata": {},
   "outputs": [],
   "source": [
    "from sklearn.model_selection import train_test_split"
   ]
  },
  {
   "cell_type": "code",
   "execution_count": 12,
   "metadata": {},
   "outputs": [],
   "source": [
    "X_train_full, X_test, y_train_full, y_test = train_test_split( housing.data,\n",
    "         housing.target.reshape(-1, 1), random_state=42)"
   ]
  },
  {
   "cell_type": "code",
   "execution_count": 13,
   "metadata": {},
   "outputs": [],
   "source": [
    "X_train, X_valid, y_train, y_valid =  train_test_split( X_train_full, \n",
    "        y_train_full, random_state=42)"
   ]
  },
  {
   "cell_type": "code",
   "execution_count": 17,
   "metadata": {},
   "outputs": [],
   "source": [
    "from sklearn.preprocessing import StandardScaler"
   ]
  },
  {
   "cell_type": "code",
   "execution_count": 18,
   "metadata": {},
   "outputs": [],
   "source": [
    "scaler = StandardScaler()"
   ]
  },
  {
   "cell_type": "code",
   "execution_count": 19,
   "metadata": {},
   "outputs": [],
   "source": [
    "X_train_scaled = scaler.fit_transform(X_train)"
   ]
  },
  {
   "cell_type": "code",
   "execution_count": 20,
   "metadata": {},
   "outputs": [],
   "source": [
    "X_valid_scaled = scaler.transform(X_valid)"
   ]
  },
  {
   "cell_type": "code",
   "execution_count": 21,
   "metadata": {},
   "outputs": [],
   "source": [
    "X_test_scaled = scaler.transform(X_test)"
   ]
  },
  {
   "cell_type": "code",
   "execution_count": 30,
   "metadata": {},
   "outputs": [],
   "source": [
    " def huber_fn(y_true, y_pred):\n",
    "        error = y_true - y_pred\n",
    "        is_small_error = tf.abs(error) < 1\n",
    "        squared_loss = tf.square(error) / 2\n",
    "        linear_loss  = tf.abs(error) - 0.5\n",
    "        return tf.where(is_small_error, squared_loss, linear_loss)"
   ]
  },
  {
   "cell_type": "code",
   "execution_count": 34,
   "metadata": {},
   "outputs": [],
   "source": [
    "model = keras.models.Sequential([\n",
    "    keras.layers.Dense(30, activation=\"selu\", \n",
    "       kernel_initializer=\"lecun_normal\", \n",
    "       input_shape=X_train.shape[1:]),\n",
    "    keras.layers.Dense(1),\n",
    "])"
   ]
  },
  {
   "cell_type": "code",
   "execution_count": 35,
   "metadata": {},
   "outputs": [],
   "source": [
    "model.compile(loss=huber_fn, optimizer=\"nadam\", metrics=[\"mae\"])"
   ]
  },
  {
   "cell_type": "code",
   "execution_count": 38,
   "metadata": {},
   "outputs": [
    {
     "name": "stdout",
     "output_type": "stream",
     "text": [
      "Epoch 1/15\n",
      "363/363 [==============================] - 2s 2ms/step - loss: 0.6284 - mae: 0.9867 - val_loss: 0.3877 - val_mae: 0.6861\n",
      "Epoch 2/15\n",
      "363/363 [==============================] - 1s 2ms/step - loss: 0.2191 - mae: 0.5157 - val_loss: 0.3071 - val_mae: 0.5922\n",
      "Epoch 3/15\n",
      "363/363 [==============================] - 1s 2ms/step - loss: 0.2054 - mae: 0.4958 - val_loss: 0.2509 - val_mae: 0.5361\n",
      "Epoch 4/15\n",
      "363/363 [==============================] - 1s 2ms/step - loss: 0.1971 - mae: 0.4842 - val_loss: 0.2046 - val_mae: 0.4894\n",
      "Epoch 5/15\n",
      "363/363 [==============================] - 1s 2ms/step - loss: 0.1910 - mae: 0.4750 - val_loss: 0.2028 - val_mae: 0.4783\n",
      "Epoch 6/15\n",
      "363/363 [==============================] - 1s 2ms/step - loss: 0.1883 - mae: 0.4714 - val_loss: 0.1745 - val_mae: 0.4493\n",
      "Epoch 7/15\n",
      "363/363 [==============================] - 1s 2ms/step - loss: 0.1856 - mae: 0.4682 - val_loss: 0.1757 - val_mae: 0.4485\n",
      "Epoch 8/15\n",
      "363/363 [==============================] - 1s 2ms/step - loss: 0.1830 - mae: 0.4632 - val_loss: 0.1720 - val_mae: 0.4444\n",
      "Epoch 9/15\n",
      "363/363 [==============================] - 1s 2ms/step - loss: 0.1809 - mae: 0.4597 - val_loss: 0.1885 - val_mae: 0.4600\n",
      "Epoch 10/15\n",
      "363/363 [==============================] - 1s 2ms/step - loss: 0.1785 - mae: 0.4552 - val_loss: 0.1829 - val_mae: 0.4587\n",
      "Epoch 11/15\n",
      "363/363 [==============================] - 1s 2ms/step - loss: 0.1768 - mae: 0.4522 - val_loss: 0.1819 - val_mae: 0.4518\n",
      "Epoch 12/15\n",
      "363/363 [==============================] - 1s 2ms/step - loss: 0.1760 - mae: 0.4509 - val_loss: 0.1746 - val_mae: 0.4427\n",
      "Epoch 13/15\n",
      "363/363 [==============================] - 1s 2ms/step - loss: 0.1737 - mae: 0.4467 - val_loss: 0.1974 - val_mae: 0.4685\n",
      "Epoch 14/15\n",
      "363/363 [==============================] - 1s 2ms/step - loss: 0.1726 - mae: 0.4449 - val_loss: 0.1679 - val_mae: 0.4372\n",
      "Epoch 15/15\n",
      "363/363 [==============================] - 1s 2ms/step - loss: 0.1713 - mae: 0.4426 - val_loss: 0.1643 - val_mae: 0.4297\n"
     ]
    },
    {
     "data": {
      "text/plain": [
       "<keras.callbacks.History at 0x7f471df2cb38>"
      ]
     },
     "execution_count": 38,
     "metadata": {},
     "output_type": "execute_result"
    }
   ],
   "source": [
    "model.fit(X_train_scaled,y_train, epochs=15,\n",
    "  validation_data=(X_valid_scaled, y_valid))"
   ]
  },
  {
   "cell_type": "code",
   "execution_count": 39,
   "metadata": {},
   "outputs": [
    {
     "name": "stdout",
     "output_type": "stream",
     "text": [
      "162/162 [==============================] - 0s 1ms/step - loss: 0.1679 - mae: 0.4376\n"
     ]
    },
    {
     "data": {
      "text/plain": [
       "[0.16794858872890472, 0.43763452768325806]"
      ]
     },
     "execution_count": 39,
     "metadata": {},
     "output_type": "execute_result"
    }
   ],
   "source": [
    "model.evaluate(X_test_scaled,y_test)"
   ]
  },
  {
   "cell_type": "code",
   "execution_count": null,
   "metadata": {},
   "outputs": [],
   "source": []
  }
 ],
 "metadata": {
  "kernelspec": {
   "display_name": "tensorflow2",
   "language": "python",
   "name": "tensorflow2"
  },
  "language_info": {
   "codemirror_mode": {
    "name": "ipython",
    "version": 3
   },
   "file_extension": ".py",
   "mimetype": "text/x-python",
   "name": "python",
   "nbconvert_exporter": "python",
   "pygments_lexer": "ipython3",
   "version": "3.6.8"
  },
  "toc": {
   "base_numbering": 1,
   "nav_menu": {},
   "number_sections": true,
   "sideBar": true,
   "skip_h1_title": false,
   "title_cell": "Table of Contents",
   "title_sidebar": "Contents",
   "toc_cell": false,
   "toc_position": {},
   "toc_section_display": true,
   "toc_window_display": false
  }
 },
 "nbformat": 4,
 "nbformat_minor": 2
}
