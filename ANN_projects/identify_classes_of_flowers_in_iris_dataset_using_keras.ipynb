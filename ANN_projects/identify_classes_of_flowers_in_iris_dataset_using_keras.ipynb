{
 "cells": [
  {
   "cell_type": "code",
   "execution_count": 1,
   "metadata": {},
   "outputs": [],
   "source": [
    "import numpy as np\n",
    "import pandas as pd\n",
    "import tensorflow as tf\n",
    "from tensorflow import keras"
   ]
  },
  {
   "cell_type": "code",
   "execution_count": 2,
   "metadata": {},
   "outputs": [],
   "source": [
    "from sklearn.datasets import load_iris\n",
    "from sklearn.model_selection import train_test_split"
   ]
  },
  {
   "cell_type": "code",
   "execution_count": 3,
   "metadata": {},
   "outputs": [],
   "source": [
    "import matplotlib\n",
    "import matplotlib.pyplot as plt"
   ]
  },
  {
   "cell_type": "code",
   "execution_count": 9,
   "metadata": {},
   "outputs": [],
   "source": [
    "iris = load_iris()"
   ]
  },
  {
   "cell_type": "code",
   "execution_count": 12,
   "metadata": {},
   "outputs": [],
   "source": [
    "X = iris.data\n",
    "y = iris.target"
   ]
  },
  {
   "cell_type": "code",
   "execution_count": 14,
   "metadata": {},
   "outputs": [],
   "source": [
    "X_train, X_test, y_train, y_test = train_test_split(X, y, test_size=0.3, random_state=42)"
   ]
  },
  {
   "cell_type": "code",
   "execution_count": 20,
   "metadata": {},
   "outputs": [],
   "source": [
    "keras.backend.clear_session()\n",
    "np.random.seed(42)\n",
    "tf.random.set_seed(42)"
   ]
  },
  {
   "cell_type": "code",
   "execution_count": 21,
   "metadata": {},
   "outputs": [],
   "source": [
    "model = keras.models.Sequential([\n",
    "    keras.layers.Dense(300, input_shape=(4,), activation=\"relu\"),\n",
    "    keras.layers.Dropout(rate=0.2),\n",
    "    keras.layers.Dense(100, activation=\"relu\", kernel_initializer=\"he_normal\"),\n",
    "    keras.layers.Dropout(rate=0.2),\n",
    "    keras.layers.Dense(500, activation=\"relu\", kernel_initializer=\"he_normal\"),\n",
    "    keras.layers.Dropout(rate=0.2),\n",
    "    keras.layers.Dense(3, activation=\"softmax\")\n",
    "])"
   ]
  },
  {
   "cell_type": "code",
   "execution_count": 25,
   "metadata": {},
   "outputs": [
    {
     "name": "stdout",
     "output_type": "stream",
     "text": [
      "Model: \"sequential\"\n",
      "_________________________________________________________________\n",
      "Layer (type)                 Output Shape              Param #   \n",
      "=================================================================\n",
      "dense (Dense)                (None, 300)               1500      \n",
      "_________________________________________________________________\n",
      "dropout (Dropout)            (None, 300)               0         \n",
      "_________________________________________________________________\n",
      "dense_1 (Dense)              (None, 100)               30100     \n",
      "_________________________________________________________________\n",
      "dropout_1 (Dropout)          (None, 100)               0         \n",
      "_________________________________________________________________\n",
      "dense_2 (Dense)              (None, 500)               50500     \n",
      "_________________________________________________________________\n",
      "dropout_2 (Dropout)          (None, 500)               0         \n",
      "_________________________________________________________________\n",
      "dense_3 (Dense)              (None, 3)                 1503      \n",
      "=================================================================\n",
      "Total params: 83,603\n",
      "Trainable params: 83,603\n",
      "Non-trainable params: 0\n",
      "_________________________________________________________________\n"
     ]
    }
   ],
   "source": [
    "model.summary()"
   ]
  },
  {
   "cell_type": "code",
   "execution_count": 30,
   "metadata": {},
   "outputs": [],
   "source": [
    "model.compile(optimizer=keras.optimizers.Adam(learning_rate=0.001), \n",
    "              loss=\"sparse_categorical_crossentropy\", metrics=[\"accuracy\"])"
   ]
  },
  {
   "cell_type": "code",
   "execution_count": 31,
   "metadata": {},
   "outputs": [
    {
     "name": "stdout",
     "output_type": "stream",
     "text": [
      "Epoch 1/100\n",
      "21/21 [==============================] - 1s 2ms/step - loss: 1.1660 - accuracy: 0.3619\n",
      "Epoch 2/100\n",
      "21/21 [==============================] - 0s 2ms/step - loss: 0.7322 - accuracy: 0.6286\n",
      "Epoch 3/100\n",
      "21/21 [==============================] - 0s 2ms/step - loss: 0.5921 - accuracy: 0.6762\n",
      "Epoch 4/100\n",
      "21/21 [==============================] - 0s 2ms/step - loss: 0.5255 - accuracy: 0.7238\n",
      "Epoch 5/100\n",
      "21/21 [==============================] - 0s 2ms/step - loss: 0.5319 - accuracy: 0.7048\n",
      "Epoch 6/100\n",
      "21/21 [==============================] - 0s 2ms/step - loss: 0.3353 - accuracy: 0.8190\n",
      "Epoch 7/100\n",
      "21/21 [==============================] - 0s 2ms/step - loss: 0.3272 - accuracy: 0.8381\n",
      "Epoch 8/100\n",
      "21/21 [==============================] - 0s 2ms/step - loss: 0.2963 - accuracy: 0.9143\n",
      "Epoch 9/100\n",
      "21/21 [==============================] - 0s 2ms/step - loss: 0.3320 - accuracy: 0.8476\n",
      "Epoch 10/100\n",
      "21/21 [==============================] - 0s 2ms/step - loss: 0.2968 - accuracy: 0.8857\n",
      "Epoch 11/100\n",
      "21/21 [==============================] - 0s 2ms/step - loss: 0.1598 - accuracy: 0.9619\n",
      "Epoch 12/100\n",
      "21/21 [==============================] - 0s 2ms/step - loss: 0.2393 - accuracy: 0.9143\n",
      "Epoch 13/100\n",
      "21/21 [==============================] - 0s 2ms/step - loss: 0.2402 - accuracy: 0.9238\n",
      "Epoch 14/100\n",
      "21/21 [==============================] - 0s 2ms/step - loss: 0.1732 - accuracy: 0.9238\n",
      "Epoch 15/100\n",
      "21/21 [==============================] - 0s 2ms/step - loss: 0.2239 - accuracy: 0.8952\n",
      "Epoch 16/100\n",
      "21/21 [==============================] - 0s 2ms/step - loss: 0.2324 - accuracy: 0.9333\n",
      "Epoch 17/100\n",
      "21/21 [==============================] - 0s 2ms/step - loss: 0.2034 - accuracy: 0.9143\n",
      "Epoch 18/100\n",
      "21/21 [==============================] - 0s 2ms/step - loss: 0.1677 - accuracy: 0.9333\n",
      "Epoch 19/100\n",
      "21/21 [==============================] - 0s 2ms/step - loss: 0.1477 - accuracy: 0.9619\n",
      "Epoch 20/100\n",
      "21/21 [==============================] - 0s 2ms/step - loss: 0.1369 - accuracy: 0.9333\n",
      "Epoch 21/100\n",
      "21/21 [==============================] - 0s 2ms/step - loss: 0.2614 - accuracy: 0.8952\n",
      "Epoch 22/100\n",
      "21/21 [==============================] - 0s 2ms/step - loss: 0.1396 - accuracy: 0.9524\n",
      "Epoch 23/100\n",
      "21/21 [==============================] - 0s 2ms/step - loss: 0.1269 - accuracy: 0.9524\n",
      "Epoch 24/100\n",
      "21/21 [==============================] - 0s 2ms/step - loss: 0.0984 - accuracy: 0.9524\n",
      "Epoch 25/100\n",
      "21/21 [==============================] - 0s 2ms/step - loss: 0.2325 - accuracy: 0.9238\n",
      "Epoch 26/100\n",
      "21/21 [==============================] - 0s 2ms/step - loss: 0.1808 - accuracy: 0.9333\n",
      "Epoch 27/100\n",
      "21/21 [==============================] - 0s 2ms/step - loss: 0.1260 - accuracy: 0.9429\n",
      "Epoch 28/100\n",
      "21/21 [==============================] - 0s 2ms/step - loss: 0.1044 - accuracy: 0.9714\n",
      "Epoch 29/100\n",
      "21/21 [==============================] - 0s 2ms/step - loss: 0.1457 - accuracy: 0.9429\n",
      "Epoch 30/100\n",
      "21/21 [==============================] - 0s 2ms/step - loss: 0.1344 - accuracy: 0.9524\n",
      "Epoch 31/100\n",
      "21/21 [==============================] - 0s 2ms/step - loss: 0.1286 - accuracy: 0.9524\n",
      "Epoch 32/100\n",
      "21/21 [==============================] - 0s 2ms/step - loss: 0.2127 - accuracy: 0.9333\n",
      "Epoch 33/100\n",
      "21/21 [==============================] - 0s 2ms/step - loss: 0.1226 - accuracy: 0.9429\n",
      "Epoch 34/100\n",
      "21/21 [==============================] - 0s 2ms/step - loss: 0.2096 - accuracy: 0.9238\n",
      "Epoch 35/100\n",
      "21/21 [==============================] - 0s 2ms/step - loss: 0.2429 - accuracy: 0.9048\n",
      "Epoch 36/100\n",
      "21/21 [==============================] - 0s 2ms/step - loss: 0.1391 - accuracy: 0.9429\n",
      "Epoch 37/100\n",
      "21/21 [==============================] - 0s 2ms/step - loss: 0.1518 - accuracy: 0.9333\n",
      "Epoch 38/100\n",
      "21/21 [==============================] - 0s 2ms/step - loss: 0.0933 - accuracy: 0.9714\n",
      "Epoch 39/100\n",
      "21/21 [==============================] - 0s 2ms/step - loss: 0.0548 - accuracy: 0.9905\n",
      "Epoch 40/100\n",
      "21/21 [==============================] - 0s 2ms/step - loss: 0.1183 - accuracy: 0.9714\n",
      "Epoch 41/100\n",
      "21/21 [==============================] - 0s 2ms/step - loss: 0.1088 - accuracy: 0.9714\n",
      "Epoch 42/100\n",
      "21/21 [==============================] - 0s 2ms/step - loss: 0.1795 - accuracy: 0.9429\n",
      "Epoch 43/100\n",
      "21/21 [==============================] - 0s 2ms/step - loss: 0.1068 - accuracy: 0.9524\n",
      "Epoch 44/100\n",
      "21/21 [==============================] - 0s 2ms/step - loss: 0.0892 - accuracy: 0.9619\n",
      "Epoch 45/100\n",
      "21/21 [==============================] - 0s 2ms/step - loss: 0.0989 - accuracy: 0.9619\n",
      "Epoch 46/100\n",
      "21/21 [==============================] - 0s 2ms/step - loss: 0.1191 - accuracy: 0.9714\n",
      "Epoch 47/100\n",
      "21/21 [==============================] - 0s 2ms/step - loss: 0.0810 - accuracy: 0.9810\n",
      "Epoch 48/100\n",
      "21/21 [==============================] - 0s 2ms/step - loss: 0.1725 - accuracy: 0.9333\n",
      "Epoch 49/100\n",
      "21/21 [==============================] - 0s 2ms/step - loss: 0.1129 - accuracy: 0.9429\n",
      "Epoch 50/100\n",
      "21/21 [==============================] - 0s 2ms/step - loss: 0.1163 - accuracy: 0.9524\n",
      "Epoch 51/100\n",
      "21/21 [==============================] - 0s 2ms/step - loss: 0.0556 - accuracy: 0.9810\n",
      "Epoch 52/100\n",
      "21/21 [==============================] - 0s 2ms/step - loss: 0.2098 - accuracy: 0.9238\n",
      "Epoch 53/100\n",
      "21/21 [==============================] - 0s 2ms/step - loss: 0.1462 - accuracy: 0.9333\n",
      "Epoch 54/100\n",
      "21/21 [==============================] - 0s 2ms/step - loss: 0.1911 - accuracy: 0.9524\n",
      "Epoch 55/100\n",
      "21/21 [==============================] - 0s 2ms/step - loss: 0.1274 - accuracy: 0.9524\n",
      "Epoch 56/100\n",
      "21/21 [==============================] - 0s 2ms/step - loss: 0.1251 - accuracy: 0.9429\n",
      "Epoch 57/100\n",
      "21/21 [==============================] - 0s 2ms/step - loss: 0.1289 - accuracy: 0.9619\n",
      "Epoch 58/100\n",
      "21/21 [==============================] - 0s 2ms/step - loss: 0.1210 - accuracy: 0.9429\n",
      "Epoch 59/100\n",
      "21/21 [==============================] - 0s 2ms/step - loss: 0.0875 - accuracy: 0.9810\n",
      "Epoch 60/100\n",
      "21/21 [==============================] - 0s 2ms/step - loss: 0.0756 - accuracy: 0.9714\n",
      "Epoch 61/100\n",
      "21/21 [==============================] - 0s 2ms/step - loss: 0.0722 - accuracy: 0.9714\n",
      "Epoch 62/100\n",
      "21/21 [==============================] - 0s 2ms/step - loss: 0.1415 - accuracy: 0.9238\n",
      "Epoch 63/100\n",
      "21/21 [==============================] - 0s 2ms/step - loss: 0.1152 - accuracy: 0.9429\n",
      "Epoch 64/100\n",
      "21/21 [==============================] - 0s 2ms/step - loss: 0.0900 - accuracy: 0.9714\n",
      "Epoch 65/100\n",
      "21/21 [==============================] - 0s 2ms/step - loss: 0.1387 - accuracy: 0.9524\n",
      "Epoch 66/100\n",
      "21/21 [==============================] - 0s 2ms/step - loss: 0.0898 - accuracy: 0.9810\n",
      "Epoch 67/100\n",
      "21/21 [==============================] - 0s 2ms/step - loss: 0.1136 - accuracy: 0.9524\n",
      "Epoch 68/100\n",
      "21/21 [==============================] - 0s 2ms/step - loss: 0.1010 - accuracy: 0.9619\n",
      "Epoch 69/100\n",
      "21/21 [==============================] - 0s 2ms/step - loss: 0.1642 - accuracy: 0.9524\n",
      "Epoch 70/100\n",
      "21/21 [==============================] - 0s 2ms/step - loss: 0.0935 - accuracy: 0.9714\n",
      "Epoch 71/100\n",
      "21/21 [==============================] - 0s 2ms/step - loss: 0.1135 - accuracy: 0.9619\n",
      "Epoch 72/100\n",
      "21/21 [==============================] - 0s 2ms/step - loss: 0.1257 - accuracy: 0.9619\n",
      "Epoch 73/100\n",
      "21/21 [==============================] - 0s 2ms/step - loss: 0.1299 - accuracy: 0.9429\n",
      "Epoch 74/100\n",
      "21/21 [==============================] - 0s 2ms/step - loss: 0.0840 - accuracy: 0.9714\n",
      "Epoch 75/100\n",
      "21/21 [==============================] - 0s 2ms/step - loss: 0.1282 - accuracy: 0.9524\n",
      "Epoch 76/100\n",
      "21/21 [==============================] - 0s 2ms/step - loss: 0.0968 - accuracy: 0.9619\n",
      "Epoch 77/100\n",
      "21/21 [==============================] - 0s 2ms/step - loss: 0.1097 - accuracy: 0.9524\n",
      "Epoch 78/100\n",
      "21/21 [==============================] - 0s 2ms/step - loss: 0.1317 - accuracy: 0.9429\n",
      "Epoch 79/100\n",
      "21/21 [==============================] - 0s 2ms/step - loss: 0.0948 - accuracy: 0.9619\n",
      "Epoch 80/100\n",
      "21/21 [==============================] - 0s 2ms/step - loss: 0.0669 - accuracy: 0.9714\n",
      "Epoch 81/100\n",
      "21/21 [==============================] - 0s 2ms/step - loss: 0.1680 - accuracy: 0.9333\n",
      "Epoch 82/100\n",
      "21/21 [==============================] - 0s 2ms/step - loss: 0.0818 - accuracy: 0.9619\n",
      "Epoch 83/100\n",
      "21/21 [==============================] - 0s 2ms/step - loss: 0.0862 - accuracy: 0.9429\n",
      "Epoch 84/100\n",
      "21/21 [==============================] - 0s 2ms/step - loss: 0.0993 - accuracy: 0.9619\n",
      "Epoch 85/100\n",
      "21/21 [==============================] - 0s 3ms/step - loss: 0.1187 - accuracy: 0.9714\n",
      "Epoch 86/100\n",
      "21/21 [==============================] - 0s 2ms/step - loss: 0.1049 - accuracy: 0.9714\n",
      "Epoch 87/100\n",
      "21/21 [==============================] - 0s 2ms/step - loss: 0.1081 - accuracy: 0.9429\n",
      "Epoch 88/100\n",
      "21/21 [==============================] - 0s 2ms/step - loss: 0.1224 - accuracy: 0.9524\n",
      "Epoch 89/100\n",
      "21/21 [==============================] - 0s 2ms/step - loss: 0.1216 - accuracy: 0.9524\n",
      "Epoch 90/100\n",
      "21/21 [==============================] - 0s 2ms/step - loss: 0.0714 - accuracy: 0.9714\n",
      "Epoch 91/100\n",
      "21/21 [==============================] - 0s 2ms/step - loss: 0.0744 - accuracy: 0.9714\n",
      "Epoch 92/100\n",
      "21/21 [==============================] - 0s 2ms/step - loss: 0.1057 - accuracy: 0.9619\n",
      "Epoch 93/100\n",
      "21/21 [==============================] - 0s 2ms/step - loss: 0.1552 - accuracy: 0.9333\n",
      "Epoch 94/100\n",
      "21/21 [==============================] - 0s 2ms/step - loss: 0.1272 - accuracy: 0.9619\n",
      "Epoch 95/100\n",
      "21/21 [==============================] - 0s 2ms/step - loss: 0.0756 - accuracy: 0.9810\n",
      "Epoch 96/100\n",
      "21/21 [==============================] - 0s 2ms/step - loss: 0.0832 - accuracy: 0.9714\n",
      "Epoch 97/100\n",
      "21/21 [==============================] - 0s 2ms/step - loss: 0.0989 - accuracy: 0.9619\n",
      "Epoch 98/100\n",
      "21/21 [==============================] - 0s 2ms/step - loss: 0.1617 - accuracy: 0.9619\n",
      "Epoch 99/100\n",
      "21/21 [==============================] - 0s 2ms/step - loss: 0.0830 - accuracy: 0.9619\n",
      "Epoch 100/100\n",
      "21/21 [==============================] - 0s 2ms/step - loss: 0.0650 - accuracy: 0.9714\n"
     ]
    }
   ],
   "source": [
    "history = model.fit(X_train, y_train, batch_size=5, epochs=100)"
   ]
  },
  {
   "cell_type": "code",
   "execution_count": 32,
   "metadata": {},
   "outputs": [
    {
     "data": {
      "image/png": "[encoded data removed]",
      "text/plain": [
       "<Figure size 576x360 with 1 Axes>"
      ]
     },
     "metadata": {
      "needs_background": "light"
     },
     "output_type": "display_data"
    }
   ],
   "source": [
    "pd.DataFrame(history.history).plot(figsize=(8, 5))\n",
    "plt.grid(True)\n",
    "plt.gca().set_ylim(0, 1)\n",
    "plt.show()"
   ]
  },
  {
   "cell_type": "code",
   "execution_count": 37,
   "metadata": {},
   "outputs": [
    {
     "name": "stdout",
     "output_type": "stream",
     "text": [
      "2/2 [==============================] - 0s 3ms/step - loss: 0.0389 - accuracy: 0.9778\n"
     ]
    }
   ],
   "source": [
    "results = model.evaluate(X_test, y_test)"
   ]
  },
  {
   "cell_type": "code",
   "execution_count": 38,
   "metadata": {},
   "outputs": [
    {
     "name": "stdout",
     "output_type": "stream",
     "text": [
      "Final test set loss: 0.038859\n",
      "Final test set accuracy: 0.977778\n"
     ]
    }
   ],
   "source": [
    "print('Final test set loss: {:4f}'.format(results[0]))\n",
    "print('Final test set accuracy: {:4f}'.format(results[1]))"
   ]
  },
  {
   "cell_type": "code",
   "execution_count": 43,
   "metadata": {},
   "outputs": [],
   "source": [
    "class_names = iris.target_names"
   ]
  },
  {
   "cell_type": "code",
   "execution_count": 44,
   "metadata": {},
   "outputs": [],
   "source": [
    "X_new = X_test[:5]"
   ]
  },
  {
   "cell_type": "code",
   "execution_count": 47,
   "metadata": {},
   "outputs": [
    {
     "name": "stdout",
     "output_type": "stream",
     "text": [
      "[['setosa' 'versicolor' 'setosa']\n",
      " ['versicolor' 'setosa' 'setosa']\n",
      " ['setosa' 'setosa' 'versicolor']\n",
      " ['setosa' 'versicolor' 'setosa']\n",
      " ['setosa' 'versicolor' 'setosa']]\n"
     ]
    }
   ],
   "source": [
    "y_pred = model.predict(X_new)\n",
    "y_pred = np.round(y_pred).astype(int)\n",
    "print(np.array(class_names)[y_pred])"
   ]
  },
  {
   "cell_type": "code",
   "execution_count": null,
   "metadata": {},
   "outputs": [],
   "source": []
  }
 ],
 "metadata": {
  "kernelspec": {
   "display_name": "tensorflow2",
   "language": "python",
   "name": "tensorflow2"
  },
  "language_info": {
   "codemirror_mode": {
    "name": "ipython",
    "version": 3
   },
   "file_extension": ".py",
   "mimetype": "text/x-python",
   "name": "python",
   "nbconvert_exporter": "python",
   "pygments_lexer": "ipython3",
   "version": "3.6.8"
  },
  "toc": {
   "base_numbering": 1,
   "nav_menu": {},
   "number_sections": true,
   "sideBar": true,
   "skip_h1_title": false,
   "title_cell": "Table of Contents",
   "title_sidebar": "Contents",
   "toc_cell": false,
   "toc_position": {},
   "toc_section_display": true,
   "toc_window_display": false
  }
 },
 "nbformat": 4,
 "nbformat_minor": 2
}
